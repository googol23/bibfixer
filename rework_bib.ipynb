{
 "cells": [
  {
   "cell_type": "code",
   "execution_count": 63,
   "id": "48eee3c6",
   "metadata": {},
   "outputs": [],
   "source": [
    "import re\n",
    "\n",
    "def process_bib_file(input_file):\n",
    "    with open(input_file, 'r', encoding='utf-8') as f:\n",
    "        lines = f.readlines()\n",
    "\n",
    "    for i,line in enumerate(lines):\n",
    "        if \"title\" in line:\n",
    "            line, count = re.subn(r'\\{([A-Za-z])\\}', r'\\1', line)\n",
    "            line, count = re.subn('\"{', '{', line)\n",
    "            line, count = re.subn('}\"', '}', line)\n",
    "\n",
    "            # Protect capital letters in titles\n",
    "            line = re.sub(r'(?<!\\{)(\\b[A-Z]{1,}\\b)(?!\\})',r'{\\1}',line)\n",
    "\n",
    "            lines[i] = line\n",
    "\n",
    "\n",
    "        if \"= \\\"\" in line and \"\\\",\\n\" in line:\n",
    "            line = line.replace('= \"', '= {')\n",
    "            line = line.replace('\",\\n', '},\\n')\n",
    "\n",
    "        if \"=\" in line:\n",
    "            line = \"\\t\"+line.strip() + \"\\n\"\n",
    "            lines[i] = line\n",
    "\n",
    "        if \"author\" in line:\n",
    "            authors = line.strip()[len(\"author\"):].strip()[1:].strip()[1:-2].split(\" and \")\n",
    "            if len(authors) > 3:\n",
    "                authors = authors[0] + \" and et.al.\"\n",
    "            else:\n",
    "                authors = \" and \".join(authors)\n",
    "            line = \"\\tauthor = {\" + authors + \"},\\n\"\n",
    "            lines[i] = line\n",
    "\n",
    "    with open(\"references_reworked.bib\", 'w', encoding='utf-8') as f:\n",
    "        f.writelines(lines)\n",
    "\n",
    "process_bib_file(\"references.bib\")"
   ]
  },
  {
   "cell_type": "code",
   "execution_count": null,
   "id": "233203c1",
   "metadata": {},
   "outputs": [],
   "source": []
  }
 ],
 "metadata": {
  "kernelspec": {
   "display_name": "Python 3",
   "language": "python",
   "name": "python3"
  },
  "language_info": {
   "codemirror_mode": {
    "name": "ipython",
    "version": 3
   },
   "file_extension": ".py",
   "mimetype": "text/x-python",
   "name": "python",
   "nbconvert_exporter": "python",
   "pygments_lexer": "ipython3",
   "version": "3.8.10"
  }
 },
 "nbformat": 4,
 "nbformat_minor": 5
}
